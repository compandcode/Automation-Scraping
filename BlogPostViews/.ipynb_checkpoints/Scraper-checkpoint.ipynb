{
 "cells": [
  {
   "cell_type": "code",
   "execution_count": null,
   "metadata": {},
   "outputs": [],
   "source": [
    "from selenium import webdriver\n",
    "import time\n",
    "import numpy as np\n",
    "import pandas as pd\n",
    "import seaborn as sns\n",
    "%matplotlib inline\n"
   ]
  },
  {
   "cell_type": "code",
   "execution_count": null,
   "metadata": {},
   "outputs": [],
   "source": [
    "PATH = \"C:\\Program Files (x86)\\chromedriver.exe\" #Change this to where you've stored it.\n",
    "driver = webdriver.Chrome(PATH) #Creates an instance of webdriver.\n",
    "\n",
    "driver.get(\"https://www.thenibblebyte.com/blog/categories/compandcode\") #Using TheNibbleByte's website where the views are.\n",
    "\n",
    "\n",
    "blogPosts = driver.find_elements_by_class_name(\"MlM6L\") #Finds elements based on the span tag values.\n",
    "views = [] #Initialised to 0.\n",
    "\n",
    "for post in blogPosts: #Loops through all the span tags with the number of views.\n",
    "    temp = int(post.text) #Stores the WebElement value in a 'temp' variable and converts to Integer.\n",
    "    views.append(temp) #Adds it to the list for later.\n",
    "    \n",
    "time.sleep(5) #5 second pause to allow everything to happen.\n",
    "driver.close() #Closes the page.\n",
    "    \n",
    "#Cleansing the data.\n",
    "for numberOfViews in views: #Looping through each element.\n",
    "    if numberOfViews < 10: #Heuristic comparison. Becayse I get low comments, I assume 10 or less are comments, NOT views.\n",
    "        print(\"Removing \", numberOfViews ,views.remove(numberOfViews)) #Alert the user that low values are getting removed.\n",
    "\n",
    "cleanViews = [0] + views #0 is added to the front as week 0.\n",
    "print(cleanViews)"
   ]
  },
  {
   "cell_type": "code",
   "execution_count": null,
   "metadata": {},
   "outputs": [],
   "source": []
  },
  {
   "cell_type": "code",
   "execution_count": null,
   "metadata": {},
   "outputs": [],
   "source": []
  }
 ],
 "metadata": {
  "kernelspec": {
   "display_name": "Python 3",
   "language": "python",
   "name": "python3"
  },
  "language_info": {
   "codemirror_mode": {
    "name": "ipython",
    "version": 3
   },
   "file_extension": ".py",
   "mimetype": "text/x-python",
   "name": "python",
   "nbconvert_exporter": "python",
   "pygments_lexer": "ipython3",
   "version": "3.8.3"
  }
 },
 "nbformat": 4,
 "nbformat_minor": 4
}
