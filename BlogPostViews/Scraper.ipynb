{
 "cells": [
  {
   "cell_type": "code",
   "execution_count": 3,
   "metadata": {},
   "outputs": [],
   "source": [
    "from selenium import webdriver\n",
    "import time\n",
    "import numpy as np\n",
    "import pandas as pd\n",
    "import seaborn as sns\n",
    "%matplotlib inline\n"
   ]
  },
  {
   "cell_type": "code",
   "execution_count": 5,
   "metadata": {},
   "outputs": [],
   "source": [
    "PATH = \"C:\\Program Files (x86)\\chromedriver.exe\" #Change this to where you've stored it.\n",
    "driver = webdriver.Chrome(PATH) #Creates an instance of webdriver.\n",
    "\n",
    "driver.get(\"https://www.thenibblebyte.com/blog/categories/compandcode\") #Using TheNibbleByte's website where the views are.\n",
    "\n",
    "\n",
    "blogPosts = driver.find_elements_by_class_name(\"MlM6L\") #Finds elements based on the span tag values.\n",
    "views = [] \n",
    "\n",
    "for post in blogPosts: #Loops through all the span tags with the number of views.\n",
    "    temp = int(post.text) #Stores the WebElement value in a 'temp' variable and converts to Integer.\n",
    "    views.append(temp) #Adds it to the list for later.\n",
    "    \n",
    "time.sleep(5) #5 second pause to allow everything to happen.\n",
    "driver.close() #Closes the page."
   ]
  },
  {
   "cell_type": "code",
   "execution_count": 6,
   "metadata": {},
   "outputs": [
    {
     "name": "stdout",
     "output_type": "stream",
     "text": [
      "Removing  2 None\n",
      "Removing  2 None\n",
      "Removing  4 None\n"
     ]
    }
   ],
   "source": [
    "#Data Science Part of Solution:\n",
    "\n",
    "#Cleansing the data.\n",
    "for numberOfViews in views: #Looping through each element.\n",
    "    if numberOfViews < 10: #Heuristic comparison. Becayse I get low comments, I assume 10 or less are comments, NOT views.\n",
    "        print(\"Removing \", numberOfViews ,views.remove(numberOfViews)) #Alert the user that low values are getting removed.\n",
    "#print(cleanViews)"
   ]
  },
  {
   "cell_type": "code",
   "execution_count": 7,
   "metadata": {},
   "outputs": [],
   "source": [
    "cleanViews = np.flipud(views) #Reverses the order so it goes from August 2020 onwards essentially.\n",
    "cleanViews = cleanViews[cleanViews != 0] #Only takes in 0 values (removes NumPy default 0)\n",
    "#print(cleanViews)"
   ]
  },
  {
   "cell_type": "code",
   "execution_count": 9,
   "metadata": {},
   "outputs": [
    {
     "data": {
      "image/png": "[encoded data removed]",
      "text/plain": [
       "<Figure size 432x288 with 1 Axes>"
      ]
     },
     "metadata": {
      "needs_background": "light"
     },
     "output_type": "display_data"
    }
   ],
   "source": [
    "#Generating Labels:\n",
    "labels = []\n",
    "for i in range(0, len(cleanViews)): #Generates as many labels as per records.\n",
    "    labels.append(i)\n",
    "\n",
    "theLabels = np.array(labels)\n",
    "graphData = pd.DataFrame(data=cleanViews,index=labels) #Converts the 2 arrays to a DataFrame.\n",
    "\n",
    "graph = sns.lineplot(data=graphData)"
   ]
  },
  {
   "cell_type": "code",
   "execution_count": null,
   "metadata": {},
   "outputs": [],
   "source": []
  },
  {
   "cell_type": "code",
   "execution_count": null,
   "metadata": {},
   "outputs": [],
   "source": []
  },
  {
   "cell_type": "code",
   "execution_count": null,
   "metadata": {},
   "outputs": [],
   "source": []
  }
 ],
 "metadata": {
  "kernelspec": {
   "display_name": "Python 3",
   "language": "python",
   "name": "python3"
  },
  "language_info": {
   "codemirror_mode": {
    "name": "ipython",
    "version": 3
   },
   "file_extension": ".py",
   "mimetype": "text/x-python",
   "name": "python",
   "nbconvert_exporter": "python",
   "pygments_lexer": "ipython3",
   "version": "3.8.3"
  }
 },
 "nbformat": 4,
 "nbformat_minor": 4
}
